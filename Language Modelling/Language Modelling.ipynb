{
 "cells": [
  {
   "cell_type": "code",
   "execution_count": 1,
   "id": "a97dbb0e",
   "metadata": {},
   "outputs": [],
   "source": [
    "import random\n",
    "import json\n",
    "import nltk\n",
    "from nltk.corpus import reuters\n",
    "from nltk import trigrams"
   ]
  },
  {
   "cell_type": "markdown",
   "id": "782b449c",
   "metadata": {},
   "source": [
    "Building a trigram model"
   ]
  },
  {
   "cell_type": "code",
   "execution_count": null,
   "id": "b85fe3df",
   "metadata": {},
   "outputs": [],
   "source": [
    "def build_trigram_model(corpus):\n",
    "    trigram_counts = {}\n",
    "    for sentence in corpus.sents():\n",
    "        for char1, char2, char3 in trigrams(sentence, pad_right=True, pad_left=True):\n",
    "            if (char1, char2) not in trigram_counts:\n",
    "                trigram_counts[(char1, char2)] = {}\n",
    "            if char3 not in trigram_counts[(char1, char2)]:\n",
    "                trigram_counts[(char1, char2)][char3] = 0\n",
    "            trigram_counts[(char1, char2)][char3] += 1\n",
    "\n",
    "    for char1_char2 in trigram_counts:\n",
    "        total_count = float(sum(trigram_counts[char1_char2].values()))\n",
    "        for char3 in trigram_counts[char1_char2]:\n",
    "            trigram_counts[char1_char2][char3] /= total_count\n",
    "\n",
    "    return trigram_counts"
   ]
  },
  {
   "cell_type": "markdown",
   "id": "e3c394b6",
   "metadata": {},
   "source": [
    "Building a function to generate text using a trigram model"
   ]
  },
  {
   "cell_type": "code",
   "execution_count": 4,
   "id": "52dcc482",
   "metadata": {},
   "outputs": [],
   "source": [
    "def generate_text(model, seed_words, max_length=50):\n",
    "    text = list(seed_words)\n",
    "    sentence_finished = False\n",
    "    while not sentence_finished and len(text) < max_length:\n",
    "        r = random.random()\n",
    "        accumulator = .0\n",
    "        for word in model[tuple(text[-2:])].keys():\n",
    "            accumulator += model[tuple(text[-2:])][word]\n",
    "            if accumulator >= r:\n",
    "                text.append(word)\n",
    "                break\n",
    "        if text[-2:] == [None, None]:\n",
    "            sentence_finished = True\n",
    "    return ' '.join([t for t in text if t])"
   ]
  },
  {
   "cell_type": "markdown",
   "id": "168e3c2e",
   "metadata": {},
   "source": [
    "Output the conditional probability distribution of the third character given the bigram 'he is' in the trigram model"
   ]
  },
  {
   "cell_type": "code",
   "execution_count": 15,
   "id": "b26bb5e9",
   "metadata": {},
   "outputs": [
    {
     "name": "stdout",
     "output_type": "stream",
     "text": [
      "{\n",
      "   \"\\\"\": 0.04918032786885246,\n",
      "   \"about\": 0.01639344262295082,\n",
      "   \"also\": 0.06557377049180328,\n",
      "   \"among\": 0.01639344262295082,\n",
      "   \"attending\": 0.01639344262295082,\n",
      "   \"barred\": 0.01639344262295082,\n",
      "   \"comfortable\": 0.01639344262295082,\n",
      "   \"concerned\": 0.01639344262295082,\n",
      "   \"confident\": 0.01639344262295082,\n",
      "   \"considering\": 0.03278688524590164,\n",
      "   \"encouraged\": 0.01639344262295082,\n",
      "   \"forecasting\": 0.01639344262295082,\n",
      "   \"hardly\": 0.01639344262295082,\n",
      "   \"likely\": 0.01639344262295082,\n",
      "   \"looking\": 0.01639344262295082,\n",
      "   \"not\": 0.09836065573770492,\n",
      "   \"now\": 0.03278688524590164,\n",
      "   \"offering\": 0.04918032786885246,\n",
      "   \"one\": 0.01639344262295082,\n",
      "   \"operating\": 0.01639344262295082,\n",
      "   \"opposed\": 0.01639344262295082,\n",
      "   \"optimistic\": 0.04918032786885246,\n",
      "   \"pleased\": 0.01639344262295082,\n",
      "   \"politically\": 0.03278688524590164,\n",
      "   \"ready\": 0.04918032786885246,\n",
      "   \"recommending\": 0.01639344262295082,\n",
      "   \"sceptical\": 0.03278688524590164,\n",
      "   \"seeking\": 0.04918032786885246,\n",
      "   \"serious\": 0.01639344262295082,\n",
      "   \"still\": 0.01639344262295082,\n",
      "   \"taking\": 0.01639344262295082,\n",
      "   \"the\": 0.03278688524590164,\n",
      "   \"trustee\": 0.01639344262295082,\n",
      "   \"trying\": 0.01639344262295082,\n",
      "   \"very\": 0.01639344262295082,\n",
      "   \"well\": 0.01639344262295082,\n",
      "   \"withdrawing\": 0.01639344262295082,\n",
      "   \"worried\": 0.01639344262295082\n",
      "}\n"
     ]
    }
   ],
   "source": [
    "corpus = reuters\n",
    "trigram_model = build_trigram_model(corpus)\n",
    "print(json.dumps(trigram_model[('he', 'is')], indent=3, sort_keys=True))"
   ]
  },
  {
   "cell_type": "markdown",
   "id": "54b5ad7a",
   "metadata": {},
   "source": [
    "Predict 5 sentences starting with 'he is' using the above trigram model and text generating functions"
   ]
  },
  {
   "cell_type": "code",
   "execution_count": 13,
   "id": "aefa54f2",
   "metadata": {},
   "outputs": [
    {
     "name": "stdout",
     "output_type": "stream",
     "text": [
      "Generated text 1: he is seeking offers to buy Pakistani manufactured goods .\n",
      "\n",
      "Generated text 2: he is optimistic the approval of the International Coffee Organization council meeting , he added that he was inclined to favour joint ventures , to 11 mln stg and compares with 12 . 32 billion NOTE : 1986 net includes 15 . 6 mln dlrs was due entirely to the\n",
      "\n",
      "Generated text 3: he is not receiving a considerable downturn at the mouth of the March intervention price ( 171 cts ) or below the outgoing 14 . 5 billion cubic feet , it said .\n",
      "\n",
      "Generated text 4: he is politically the better for U . S . BASE RATE CUT NOT APPROPRIATE Prime Minister Jacques Chirac planned to increase the cumulative drop of 7 . 6 mln dlrs compared with 12 mln acres sown last season .\n",
      "\n",
      "Generated text 5: he is offering to close in 1989 , when there was no immediate action is taken .\"\n",
      "\n"
     ]
    }
   ],
   "source": [
    "for i in range(5):\n",
    "    generated_text = generate_text(trigram_model, [\"he\", \"is\"])\n",
    "    print(f\"Generated text {i+1}: {generated_text}\\n\")"
   ]
  }
 ],
 "metadata": {
  "kernelspec": {
   "display_name": "Python 3 (ipykernel)",
   "language": "python",
   "name": "python3"
  },
  "language_info": {
   "codemirror_mode": {
    "name": "ipython",
    "version": 3
   },
   "file_extension": ".py",
   "mimetype": "text/x-python",
   "name": "python",
   "nbconvert_exporter": "python",
   "pygments_lexer": "ipython3",
   "version": "3.11.0"
  }
 },
 "nbformat": 4,
 "nbformat_minor": 5
}
