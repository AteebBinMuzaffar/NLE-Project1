{
 "cells": [
  {
   "cell_type": "code",
   "execution_count": 3,
   "id": "8b5ce116",
   "metadata": {},
   "outputs": [],
   "source": [
    "import re"
   ]
  },
  {
   "cell_type": "code",
   "execution_count": 4,
   "id": "9e54c8e6",
   "metadata": {},
   "outputs": [],
   "source": [
    "numbers = [\n",
    "    \"555.123.4565\", \n",
    "    \"+1-(800)-545-2468\", \n",
    "    \"2-(800)-545-2468\", \n",
    "    \"3-800-545-2468\", \n",
    "    \"555-123-3456\", \n",
    "    \"555 222 3342\", \n",
    "    \"(234) 234 2442\", \n",
    "    \"(243)-234-2342\", \n",
    "    \"1234567890\", \n",
    "    \"123.456.7890\", \n",
    "    \"123.4567\", \n",
    "    \"123-4567\", \n",
    "    \"1234567900\", \n",
    "    \"12345678900\"\n",
    "    ]\n",
    "checked = []\n",
    "countYes= 0"
   ]
  },
  {
   "cell_type": "code",
   "execution_count": 5,
   "id": "5a3950a0",
   "metadata": {},
   "outputs": [
    {
     "name": "stdout",
     "output_type": "stream",
     "text": [
      "Check Numbers [{'Number': '555.123.4565', 'Matched': 'Yes'}, {'Number': '+1-(800)-545-2468', 'Matched': 'Yes'}, {'Number': '2-(800)-545-2468', 'Matched': 'Yes'}, {'Number': '3-800-545-2468', 'Matched': 'Yes'}, {'Number': '555-123-3456', 'Matched': 'Yes'}, {'Number': '555 222 3342', 'Matched': 'Yes'}, {'Number': '(234) 234 2442', 'Matched': 'Yes'}, {'Number': '(243)-234-2342', 'Matched': 'Yes'}, {'Number': '1234567890', 'Matched': 'Yes'}, {'Number': '123.456.7890', 'Matched': 'Yes'}, {'Number': '123.4567', 'Matched': 'Yes'}, {'Number': '123-4567', 'Matched': 'Yes'}, {'Number': '1234567900', 'Matched': 'Yes'}, {'Number': '12345678900', 'Matched': 'Yes'}]\n"
     ]
    }
   ],
   "source": [
    "for _n in numbers:\n",
    "    join_match = re.findall('[0-9()+-.\\s]', _n)\n",
    "    join = ''.join(join_match)\n",
    "    match = \"No\" \n",
    "    if(_n == join):\n",
    "        match = \"Yes\"\n",
    "        countYes+=1\n",
    "    checked.append({\n",
    "        'Number':_n,\n",
    "        'Matched':match,\n",
    "    })\n",
    "print(\"Check Numbers\",checked)"
   ]
  },
  {
   "cell_type": "code",
   "execution_count": 6,
   "id": "5ec3fa1e",
   "metadata": {},
   "outputs": [
    {
     "name": "stdout",
     "output_type": "stream",
     "text": [
      "All 14 checked\n"
     ]
    }
   ],
   "source": [
    "if len(numbers) == countYes:\n",
    "    print(f'All {countYes} checked')"
   ]
  }
 ],
 "metadata": {
  "kernelspec": {
   "display_name": "Python 3 (ipykernel)",
   "language": "python",
   "name": "python3"
  },
  "language_info": {
   "codemirror_mode": {
    "name": "ipython",
    "version": 3
   },
   "file_extension": ".py",
   "mimetype": "text/x-python",
   "name": "python",
   "nbconvert_exporter": "python",
   "pygments_lexer": "ipython3",
   "version": "3.11.0"
  }
 },
 "nbformat": 4,
 "nbformat_minor": 5
}
