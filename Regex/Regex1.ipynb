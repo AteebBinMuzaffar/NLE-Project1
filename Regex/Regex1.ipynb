{
 "cells": [
  {
   "cell_type": "markdown",
   "id": "4e445925",
   "metadata": {},
   "source": [
    "\n",
    "# **Overview**\n",
    "Aforementioned are the specifics that the answer encompasses.\n",
    "\n",
    "### Currencies\n",
    "\n",
    "*   Dollar Symbol - $\n",
    "*   Euro Symbol - €\n",
    "*   Pound Sterling Symbol – £\n",
    "\n",
    "### Primary Denomination of Currencies\n",
    "Primary denominations accepted are as follows:\n",
    "\n",
    "*   Cent Symbol - cent, cents, c, or ¢\n",
    "*   Pennies Symbol - penny, pennies, or p\n",
    "\n",
    "### Post-Fix\n",
    "The following post fixes can be recognized by the script:\n",
    "\n",
    "*   *Thousands* (**Symbol**: 'K' or 'k' or 'thousand' or 'thousands')\n",
    "*   *Millions* (**Symbol**: 'm' or 'millions' or 'millions')\n",
    "*   *Billions* (**Symbol**: 'bn' or 'billion' or 'billions')\n",
    "*   *Trillions* (**Symbol**: 'tn' or 'trillion' or 'trillions')\n",
    "\n",
    "### Post-Fixes of Currencies Recognized\n",
    "The following currency in words can be recognized by the program (case in-sensitive):\n",
    "\n",
    "*   Dollar\n",
    "*   Euro\n",
    "*   Pound"
   ]
  },
  {
   "cell_type": "code",
   "execution_count": 1,
   "id": "810b1bea",
   "metadata": {},
   "outputs": [],
   "source": [
    "import re\n",
    "from urllib.request import urlopen\n",
    "from bs4 import BeautifulSoup"
   ]
  },
  {
   "cell_type": "code",
   "execution_count": 2,
   "id": "a4e335e5",
   "metadata": {},
   "outputs": [],
   "source": [
    "regexForWordsAndSymbols = \"[$€£]{1} ?[0-9]+[,]?[0-9]+([.][0-9]+)? ?(k|K|thousand|thousands|million|millions|mn|billion|billions|bn|trillion|trillions|tn)?\"\n",
    "regexForPrimaryDenominations = \"[0-9]+[.]? ?(Cent|Cents|cent|cents|c|¢|Penny|penny|Pennies|pennies|p){ |.}\"\n",
    "regexForCurrencyInWords = \"[0-9]+ ?(k|K|thousand|thousands|million|millions|mn|billion|billions|bn|trillion|trillions|tn)? ?(Dollar|Dollars|dollar|dollars|Euro|Euros|euro|euros|Pound|Pounds|pound|pounds)\"\n",
    "\n",
    "regex = [regexForWordsAndSymbols, regexForPrimaryDenominations, regexForCurrencyInWords]\n"
   ]
  },
  {
   "cell_type": "code",
   "execution_count": 3,
   "id": "f7050aef",
   "metadata": {},
   "outputs": [],
   "source": [
    "def findMoneyInWords(text):\n",
    "  for expression in regex:\n",
    "    result = re.search(expression, text)\n",
    "    if result:\n",
    "      print(result.group(0))\n",
    "      return result.group(0)"
   ]
  },
  {
   "cell_type": "markdown",
   "id": "5dbd7ac5",
   "metadata": {},
   "source": [
    "HTML to Text conversion script taken from https://stackoverflow.com/questions/328356/extracting-text-from-html-file-using-python"
   ]
  },
  {
   "cell_type": "code",
   "execution_count": 4,
   "id": "cd7704b9",
   "metadata": {},
   "outputs": [],
   "source": [
    "def getTextFromHTML(url):\n",
    "  html = urlopen(url).read()\n",
    "  soup = BeautifulSoup(html, features=\"html.parser\")\n",
    "  # kill all script and style elements\n",
    "  for script in soup([\"script\", \"style\"]):\n",
    "      script.extract()    # rip it out\n",
    "  # get text\n",
    "  text = soup.get_text()\n",
    "  # break into lines and remove leading and trailing space on each\n",
    "  lines = (line.strip() for line in text.splitlines())\n",
    "  # break multi-headlines into a line each\n",
    "  chunks = (phrase.strip() for line in lines for phrase in line.split(\"  \"))\n",
    "  # drop blank lines\n",
    "  text = '\\n'.join(chunk for chunk in chunks if chunk)\n",
    "  return text\n"
   ]
  },
  {
   "cell_type": "code",
   "execution_count": 5,
   "id": "a170c4dd",
   "metadata": {},
   "outputs": [],
   "source": [
    "def processURLToFindMoneyInWords(url):\n",
    "  textFromHTML = getTextFromHTML(url)\n",
    "  fetch_result = re.search(\".{10}[0-9].{10}\", textFromHTML)\n",
    "  while fetch_result:\n",
    "    subString = fetch_result.group(0)\n",
    "    amountFound = findMoneyInWords(subString)\n",
    "    if amountFound:\n",
    "      textFromHTML = textFromHTML.replace(amountFound, '')\n",
    "    else:\n",
    "      textFromHTML = textFromHTML.replace(subString, '')\n",
    "    fetch_result = re.search(\".{10}[0-9].{10}\", textFromHTML)"
   ]
  },
  {
   "cell_type": "code",
   "execution_count": 6,
   "id": "975d6d7d",
   "metadata": {},
   "outputs": [
    {
     "name": "stdout",
     "output_type": "stream",
     "text": [
      "$131bn\n",
      "£100bn\n",
      "$100bn\n",
      "$17.4bn\n",
      "£800,000 \n"
     ]
    }
   ],
   "source": [
    "processURLToFindMoneyInWords(\"https://www.bbc.com/news/business-41779341\")"
   ]
  }
 ],
 "metadata": {
  "kernelspec": {
   "display_name": "Python 3 (ipykernel)",
   "language": "python",
   "name": "python3"
  },
  "language_info": {
   "codemirror_mode": {
    "name": "ipython",
    "version": 3
   },
   "file_extension": ".py",
   "mimetype": "text/x-python",
   "name": "python",
   "nbconvert_exporter": "python",
   "pygments_lexer": "ipython3",
   "version": "3.11.0"
  }
 },
 "nbformat": 4,
 "nbformat_minor": 5
}
